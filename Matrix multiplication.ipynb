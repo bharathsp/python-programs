{
 "cells": [
  {
   "cell_type": "markdown",
   "metadata": {},
   "source": [
    "# MATRIX MULTIPLICATION"
   ]
  },
  {
   "cell_type": "markdown",
   "metadata": {},
   "source": [
    "## NORMAL METHOD"
   ]
  },
  {
   "cell_type": "code",
   "execution_count": 1,
   "metadata": {},
   "outputs": [
    {
     "name": "stdout",
     "output_type": "stream",
     "text": [
      "[[42, 36, 30], [96, 81, 66], [150, 126, 102]]\n"
     ]
    }
   ],
   "source": [
    "matrix1 =[[1,2,3],[4,5,6],[7,8,9]]\n",
    "matrix2 = [[3,2,1],[6,5,4],[9,8,7]]\n",
    "  \n",
    "res = [[0 for x in range(3)] for y in range(3)]  \n",
    "  \n",
    "# explicit for loops \n",
    "for i in range(len(matrix1)): \n",
    "    for j in range(len(matrix2[0])): \n",
    "        for k in range(len(matrix2)): \n",
    "  \n",
    "            # resulted matrix \n",
    "            res[i][j] += matrix1[i][k] * matrix2[k][j] \n",
    "  \n",
    "print (res) "
   ]
  },
  {
   "cell_type": "markdown",
   "metadata": {},
   "source": [
    "## NUMPY METHOD"
   ]
  },
  {
   "cell_type": "code",
   "execution_count": 1,
   "metadata": {},
   "outputs": [
    {
     "name": "stdout",
     "output_type": "stream",
     "text": [
      "[[ 42  36  30]\n",
      " [ 96  81  66]\n",
      " [150 126 102]]\n"
     ]
    }
   ],
   "source": [
    "import numpy as np\n",
    "mat1=np.array([[1,2,3],[4,5,6],[7,8,9]])\n",
    "mat2=np.array([[3,2,1],[6,5,4],[9,8,7]])\n",
    "ans=np.dot(mat1,mat2)\n",
    "print(ans)"
   ]
  },
  {
   "cell_type": "code",
   "execution_count": null,
   "metadata": {},
   "outputs": [],
   "source": []
  }
 ],
 "metadata": {
  "kernelspec": {
   "display_name": "Python 3",
   "language": "python",
   "name": "python3"
  },
  "language_info": {
   "codemirror_mode": {
    "name": "ipython",
    "version": 3
   },
   "file_extension": ".py",
   "mimetype": "text/x-python",
   "name": "python",
   "nbconvert_exporter": "python",
   "pygments_lexer": "ipython3",
   "version": "3.7.4"
  }
 },
 "nbformat": 4,
 "nbformat_minor": 2
}
